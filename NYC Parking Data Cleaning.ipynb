{
 "cells": [
  {
   "cell_type": "markdown",
   "metadata": {},
   "source": [
    "NYC Parking Data Cleaning\n",
    "==========\n",
    "(Take 2)\n",
    "------\n",
    "\n",
    "# 1. Obtain the data"
   ]
  },
  {
   "cell_type": "code",
   "execution_count": 5,
   "metadata": {},
   "outputs": [
    {
     "name": "stdout",
     "output_type": "stream",
     "text": [
      "  % Total    % Received % Xferd  Average Speed   Time    Time     Time  Current\n",
      "                                 Dload  Upload   Total   Spent    Left  Speed\n",
      "100 21.8M  100 21.8M    0     0  1629k      0  0:00:13  0:00:13 --:--:-- 1926k\n",
      "Archive:  Parking_Regulation_Shapefile.zip\n",
      "  inflating: Parking_Regulation_Shapefile/Parking Regulation Metadata.pdf  \n",
      " extracting: Parking_Regulation_Shapefile/Parking_Regulation_Shapefile.CPG  \n",
      "  inflating: Parking_Regulation_Shapefile/Parking_Regulation_Shapefile.dbf  \n",
      "  inflating: Parking_Regulation_Shapefile/Parking_Regulation_Shapefile.prj  \n",
      "  inflating: Parking_Regulation_Shapefile/Parking_Regulation_Shapefile.sbn  \n",
      "  inflating: Parking_Regulation_Shapefile/Parking_Regulation_Shapefile.sbx  \n",
      "  inflating: Parking_Regulation_Shapefile/Parking_Regulation_Shapefile.shp  \n",
      "  inflating: Parking_Regulation_Shapefile/Parking_Regulation_Shapefile.shp.xml  \n",
      "  inflating: Parking_Regulation_Shapefile/Parking_Regulation_Shapefile.shx  \n"
     ]
    }
   ],
   "source": [
    "# NYC LION street Lines\n",
    "! cd data && curl -O \"https://www1.nyc.gov/assets/planning/download/zip/data-maps/open-data/nyclion_18a.zip\" && unzip nyclion_18a.zip && rm nyclion_18a.zip\n",
    "\n",
    "# NYC Street Parking Signs\n",
    "! cd data && curl -O \"http://a841-dotweb01.nyc.gov/datafeeds/ParkingReg/Parking_Regulation_Shapefile.zip\" && unzip Parking_Regulation_Shapefile.zip && rm Parking_Regulation_Shapefile.zip"
   ]
  },
  {
   "cell_type": "code",
   "execution_count": 127,
   "metadata": {},
   "outputs": [
    {
     "name": "stdout",
     "output_type": "stream",
     "text": [
      "Requirement already up-to-date: fiona in /anaconda3/lib/python3.6/site-packages\n",
      "Requirement already up-to-date: six in /anaconda3/lib/python3.6/site-packages (from fiona)\n",
      "Requirement already up-to-date: click-plugins in /anaconda3/lib/python3.6/site-packages (from fiona)\n",
      "Requirement already up-to-date: cligj in /anaconda3/lib/python3.6/site-packages (from fiona)\n",
      "Requirement already up-to-date: munch in /anaconda3/lib/python3.6/site-packages (from fiona)\n",
      "Requirement already up-to-date: click>=3.0 in /anaconda3/lib/python3.6/site-packages (from click-plugins->fiona)\n",
      "\u001b[33mYou are using pip version 9.0.2, however version 9.0.3 is available.\n",
      "You should consider upgrading via the 'pip install --upgrade pip' command.\u001b[0m\n",
      "Updating Homebrew...\n",
      "\u001b[34m==>\u001b[0m \u001b[1mAuto-updated Homebrew!\u001b[0m\n",
      "Updated 2 taps (homebrew/core, caskroom/cask).\n",
      "No changes to formulae.\n",
      "\n",
      "\u001b[31mError:\u001b[0m gdal 2.2.4 already installed\n",
      "Requirement already satisfied: spacy in /anaconda3/lib/python3.6/site-packages\n",
      "Requirement already satisfied: plac<1.0.0,>=0.9.6 in /anaconda3/lib/python3.6/site-packages (from spacy)\n",
      "Requirement already satisfied: requests<3.0.0,>=2.13.0 in /anaconda3/lib/python3.6/site-packages (from spacy)\n",
      "Requirement already satisfied: six in /anaconda3/lib/python3.6/site-packages (from spacy)\n",
      "Requirement already satisfied: preshed<2.0.0,>=1.0.0 in /anaconda3/lib/python3.6/site-packages (from spacy)\n",
      "Requirement already satisfied: pathlib in /anaconda3/lib/python3.6/site-packages (from spacy)\n",
      "Requirement already satisfied: murmurhash<0.29,>=0.28 in /anaconda3/lib/python3.6/site-packages (from spacy)\n",
      "Collecting html5lib==1.0b8 (from spacy)\n",
      "Requirement already satisfied: regex==2017.4.5 in /anaconda3/lib/python3.6/site-packages (from spacy)\n",
      "Requirement already satisfied: msgpack-numpy==0.4.1 in /anaconda3/lib/python3.6/site-packages (from spacy)\n",
      "Requirement already satisfied: ftfy<5.0.0,>=4.4.2 in /anaconda3/lib/python3.6/site-packages (from spacy)\n",
      "Requirement already satisfied: ujson>=1.35 in /anaconda3/lib/python3.6/site-packages (from spacy)\n",
      "Requirement already satisfied: thinc<6.11.0,>=6.10.1 in /anaconda3/lib/python3.6/site-packages (from spacy)\n",
      "Requirement already satisfied: cymem<1.32,>=1.30 in /anaconda3/lib/python3.6/site-packages (from spacy)\n",
      "Requirement already satisfied: dill<0.3,>=0.2 in /anaconda3/lib/python3.6/site-packages (from spacy)\n",
      "Requirement already satisfied: numpy>=1.7 in /anaconda3/lib/python3.6/site-packages (from spacy)\n",
      "Requirement already satisfied: msgpack-python==0.5.4 in /anaconda3/lib/python3.6/site-packages (from spacy)\n",
      "Requirement already satisfied: chardet<3.1.0,>=3.0.2 in /anaconda3/lib/python3.6/site-packages (from requests<3.0.0,>=2.13.0->spacy)\n",
      "Requirement already satisfied: idna<2.7,>=2.5 in /anaconda3/lib/python3.6/site-packages (from requests<3.0.0,>=2.13.0->spacy)\n",
      "Requirement already satisfied: urllib3<1.23,>=1.21.1 in /anaconda3/lib/python3.6/site-packages (from requests<3.0.0,>=2.13.0->spacy)\n",
      "Requirement already satisfied: certifi>=2017.4.17 in /anaconda3/lib/python3.6/site-packages (from requests<3.0.0,>=2.13.0->spacy)\n",
      "Requirement already satisfied: wcwidth in /anaconda3/lib/python3.6/site-packages (from ftfy<5.0.0,>=4.4.2->spacy)\n",
      "Requirement already satisfied: tqdm<5.0.0,>=4.10.0 in /anaconda3/lib/python3.6/site-packages (from thinc<6.11.0,>=6.10.1->spacy)\n",
      "Requirement already satisfied: termcolor in /anaconda3/lib/python3.6/site-packages (from thinc<6.11.0,>=6.10.1->spacy)\n",
      "Requirement already satisfied: cytoolz<0.9,>=0.8 in /anaconda3/lib/python3.6/site-packages (from thinc<6.11.0,>=6.10.1->spacy)\n",
      "Requirement already satisfied: wrapt in /anaconda3/lib/python3.6/site-packages (from thinc<6.11.0,>=6.10.1->spacy)\n",
      "Requirement already satisfied: toolz>=0.8.0 in /anaconda3/lib/python3.6/site-packages (from cytoolz<0.9,>=0.8->thinc<6.11.0,>=6.10.1->spacy)\n",
      "Installing collected packages: html5lib\n",
      "  Found existing installation: html5lib 1.0.1\n",
      "    Uninstalling html5lib-1.0.1:\n",
      "      Successfully uninstalled html5lib-1.0.1\n",
      "Successfully installed html5lib-1.0b8\n",
      "\u001b[33mYou are using pip version 9.0.2, however version 9.0.3 is available.\n",
      "You should consider upgrading via the 'pip install --upgrade pip' command.\u001b[0m\n",
      "Collecting https://github.com/explosion/spacy-models/releases/download/en_core_web_sm-2.0.0/en_core_web_sm-2.0.0.tar.gz\n",
      "  Downloading https://github.com/explosion/spacy-models/releases/download/en_core_web_sm-2.0.0/en_core_web_sm-2.0.0.tar.gz (37.4MB)\n",
      "\u001b[K    100% |████████████████████████████████| 37.4MB 1.4MB/s ta 0:00:01\n",
      "\u001b[?25hInstalling collected packages: en-core-web-sm\n",
      "  Running setup.py install for en-core-web-sm ... \u001b[?25ldone\n",
      "\u001b[?25hSuccessfully installed en-core-web-sm-2.0.0\n",
      "\u001b[33mYou are using pip version 9.0.2, however version 9.0.3 is available.\n",
      "You should consider upgrading via the 'pip install --upgrade pip' command.\u001b[0m\n",
      "\n",
      "\u001b[93m    Linking successful\u001b[0m\n",
      "    /anaconda3/lib/python3.6/site-packages/en_core_web_sm -->\n",
      "    /anaconda3/lib/python3.6/site-packages/spacy/data/en\n",
      "\n",
      "    You can now load the model via spacy.load('en')\n",
      "\n"
     ]
    }
   ],
   "source": [
    "! pip install -U fiona dateutil\n",
    "! pip install pyqtree\n",
    "! brew upgrade gdal\n",
    "! brew install spatialindex"
   ]
  },
  {
   "cell_type": "code",
   "execution_count": 1,
   "metadata": {},
   "outputs": [],
   "source": [
    "import pandas as pd\n",
    "import geopandas as gpd\n",
    "import re\n",
    "from dateutil.rrule import rrule, WEEKLY\n",
    "from datetime import datetime"
   ]
  },
  {
   "cell_type": "code",
   "execution_count": 27,
   "metadata": {},
   "outputs": [],
   "source": [
    "signs = gpd.read_file('data/Parking_Regulation_Shapefile/Parking_Regulation_Shapefile.shp')"
   ]
  },
  {
   "cell_type": "code",
   "execution_count": null,
   "metadata": {},
   "outputs": [],
   "source": []
  },
  {
   "cell_type": "code",
   "execution_count": null,
   "metadata": {},
   "outputs": [],
   "source": []
  },
  {
   "cell_type": "code",
   "execution_count": 3,
   "metadata": {},
   "outputs": [],
   "source": [
    "aspsigns = signs[signs.SIGNDESC1.str.contains('\\(SANITATION BROOM SYMBOL\\)')]"
   ]
  },
  {
   "cell_type": "code",
   "execution_count": 4,
   "metadata": {},
   "outputs": [
    {
     "data": {
      "text/plain": [
       "NO PARKING (SANITATION BROOM SYMBOL) 11:30AM TO 1PM MON & THURS <---->                                                    3955\n",
       "NO PARKING (SANITATION BROOM SYMBOL) 11:30AM TO 1PM TUES & FRI <---->                                                     3928\n",
       "NO PARKING (SANITATION BROOM SYMBOL) TUESDAY FRIDAY 11:30AM-1PM <->                                                       3638\n",
       "NO PARKING (SANITATION BROOM SYMBOL) MONDAY THURSDAY 11:30AM-1PM <->                                                      3567\n",
       "NO PARKING (SANITATION BROOM SYMBOL) 9:30-11AM MON & THURS <--->                                                          3011\n",
       "NO PARKING (SANITATION BROOM SYMBOL) 11:30AM TO 1PM TUES <---->                                                           2978\n",
       "NO PARKING (SANITATION BROOM SYMBOL) 11AM TO 12:30PM TUES & FRI <---->                                                    2914\n",
       "NO PARKING (SANITATION BROOM SYMBOL) 11:30AM TO 1PM MON <--->                                                             2878\n",
       "NO PARKING (SANITATION BROOM SYMBOL) 11:30AM TO 1PM THURS <-->                                                            2757\n",
       "NO PARKING (SANITATION BROOM SYMBOL) 11AM TO 12:30PM MON & THURS <---->                                                   2749\n",
       "NO PARKING (SANITATION BROOM SYMBOL) 9-10:30AM TUES & FRI <----->                                                         2719\n",
       "NO PARKING (SANITATION BROOM SYMBOL) 9-10:30AM MON & THURS <---->                                                         2700\n",
       "NO PARKING (SANITATION BROOM SYMBOL) 8-9:30AM TUES & FRI<---->                                                            2657\n",
       "NO PARKING (SANITATION BROOM SYMBOL) THURSDAY 11:30AM-1PM <->                                                             2639\n",
       "NO PARKING (SANITATION BROOM SYMBOL) 7:30AM-8AM EXCEPT SUNDAY <->                                                         2615\n",
       "NO PARKING (SANITATION BROOM SYMBOL) 8:30-10AM MON & THURS <---->                                                         2606\n",
       "NO PARKING (SANITATION BROOM SYMBOL) TUESDAY FRIDAY 8AM-9:30AM <->                                                        2562\n",
       "NO PARKING (SANITATION BROOM SYMBOL) 8-9:30AM MON & THURS <---->                                                          2557\n",
       "NO PARKING (SANITATION BROOM SYMBOL) TUESDAY 11:30AM-1PM <->                                                              2533\n",
       "NO PARKING (SANITATION BROOM SYMBOL) FRIDAY 11:30AM-1PM <->                                                               2509\n",
       "NO PARKING (SANITATION BROOM SYMBOL) THURSDAY 8:30AM-10AM <->                                                             2491\n",
       "NO PARKING (SANITATION BROOM SYMBOL) 8:30-10AM TUES & FRI <----->                                                         2486\n",
       "NO PARKING (SANITATION BROOM SYMBOL) MONDAY THURSDAY 8AM-9:30AM <->                                                       2432\n",
       "NO PARKING (SANITATION BROOM SYMBOL) 8AM-8:30AM EXCEPT SUNDAY <->                                                         2426\n",
       "NO PARKING (SANITATION BROOM SYMBOL) TUESDAY FRIDAY 8:30AM-10AM <->                                                       2416\n",
       "NO PARKING (SANITATION BROOM SYMBOL) MONDAY THURSDAY 11AM-12:30PM <->                                                     2407\n",
       "NO PARKING (SANITATION BROOM SYMBOL) 9:30-11AM TUES <-->                                                                  2368\n",
       "NO PARKING (SANITATION BROOM SYMBOL) MONDAY THURSDAY 9AM-10:30AM <->                                                      2359\n",
       "NO PARKING (SANITATION BROOM SYMBOL) 11:30AM TO 1PM WED <----->                                                           2349\n",
       "NO PARKING (SANITATION BROOM SYMBOL) TUESDAY FRIDAY 11AM-12:30PM <->                                                      2318\n",
       "                                                                                                                          ... \n",
       "NO PARKING (SANITATION BROOM SYMBOL) 9:30-11AM SAT W/ SINGLE ARROW                                                           1\n",
       "NO PARKING (SANITATION BROOM SYMBOL) 8:30-10AM TUES <-->(12X18)                                                              1\n",
       "NIGHT REGULATION (MOON & STAR SYMBOLS) NO PARKING (SANITATION BROOM SYMBOL) MIDNIGHT TO-6AM TUES & FRI W/ SINGLE ARROW       1\n",
       "NO PARKING (SANITATION BROOM SYMBOL) 7:30-8AM FRI W/SINGLE ARROW                                                             1\n",
       "NO PARKING (SANITATION BROOM SYMBOL) MONDAY WEDNESDAY FRIDAY 7AM-7:30AM -->                                                  1\n",
       "NIGHT REGULATION (MOON & STAR SYMBOLS) NO PARKING (SANITATION BROOM SYMBOL) 2AM-6AM SAT <----->                              1\n",
       "NO PARKING (SANITATION BROOM SYMBOL) 8:30-9AM SAT W/SINGLE ARROW (SUPSEDEDED BY PS-106BA)                                    1\n",
       "NO PARKING (SANITATION BROOM SYMBOL) THURSDAY 8:30AM-9AM -->                                                                 1\n",
       "NO PARKING (SANITATION BROOM SYMBOL) TUESDAY 7AM-7:30AM -->                                                                  1\n",
       "NO PARKING (SANITATION BROOM SYMBOL) 7-7:30AM SAT W/SINGLE ARROW                                                             1\n",
       "NO PARKING (SANITATION BROOM SYMBOL) MONDAY THURSDAY 9AM-9:30AM -->                                                          1\n",
       "NO PARKING (SANITATION BROOM SYMBOL) 8:30-9AM THURS W/ SINGLE ARROW                                                          1\n",
       "NO PARKING (SANITATION BROOM SYMBOL) MONDAY THURSDAY 7AM-7:30AM -->                                                          1\n",
       "NO PARKING (SANITATION BROOM SYMBOL) TUESDAY FRIDAY 10AM-11:30AM -->                                                         1\n",
       "NO PARKING (SANITATION BROOM SYMBOL) TUESDAY FRIDAY 9:30AM-10AM -->                                                          1\n",
       "NO PARKING (SANITATION BROOM SYMBOL) 8:30-9AM MON W/SINGLE ARROW                                                             1\n",
       "NO PARKING (SANITATION BROOM SYMBOL) 10:30 TO 11:30AM WED <----->                                                            1\n",
       "NO PARKING (SANITATION BROOM SYMBOL) TUESDAY THURSDAY SATURDAY 11:30AM-1PM -->                                               1\n",
       "NO PARKING (SANITATION BROOM SYMBOL) 7:30-8AM THURS W/SINGLE ARROW                                                           1\n",
       "NO PARKING (SANITATION BROOM SYMBOL) 8AM-9AM TUES & FRI-W/SINGLE ARROW                                                       1\n",
       "NO PARKING (SANITATION BROOM SYMBOL) W/ MOON & STARS SYMBOLS TUESDAY FRIDAY 3AM-6AM --> ()                                   1\n",
       "NO PARKING (SANITATION BROOM SYMBOL) TUESDAY THURSDAY SATURDAY 7AM-7:30AM <->                                                1\n",
       "NO PARKING (SANITATION BROOM SYMBOL) MOON & STARS (SYMBOLS) TUESDAY FRIDAY 4:30AM-6AM -->                                    1\n",
       "NO PARKING (SANITATION BROOM SYMBOL) <->                                                                                     1\n",
       "NO PARKING (SANITATION BROOM SYMBOL) 9-9:30AM SAT W/SINGLE ARROW                                                             1\n",
       "NO PARKING (SANITATION BROOM SYMBOL) 10:30AM TO NOON MON & THURS W/SINGLE ARROW                                              1\n",
       "NO PARKING (SANITATION BROOM SYMBOL) 11:30AM-1PM MON WED THURS W/ SINGLE ARROW                                               1\n",
       "NO PARKING (SANITATION BROOM SYMBOL) TUESDAY THURSDAY 8AM-8:30AM -->                                                         1\n",
       "NO PARKING (SANITATION BROOM SYMBOL)11AM-2PM TUES &THURS <----->                                                             1\n",
       "NO PARKING (SANITATION BROOM SYMBOL) THURSDAY 8AM-9:30AM <->                                                                 1\n",
       "Name: SIGNDESC1, Length: 732, dtype: int64"
      ]
     },
     "execution_count": 4,
     "metadata": {},
     "output_type": "execute_result"
    }
   ],
   "source": [
    "aspsigns.SIGNDESC1.value_counts()"
   ]
  },
  {
   "cell_type": "code",
   "execution_count": null,
   "metadata": {},
   "outputs": [],
   "source": []
  },
  {
   "cell_type": "code",
   "execution_count": 12,
   "metadata": {},
   "outputs": [
    {
     "data": {
      "text/plain": [
       "NO PARKING (SANITATION BROOM SYMBOL) 7:30AM-8AM EXCEPT SUNDAY <->                                                     2615\n",
       "NO PARKING (SANITATION BROOM SYMBOL) 8AM-8:30AM EXCEPT SUNDAY <->                                                     2426\n",
       "NO PARKING (SANITATION BROOM SYMBOL) 8:30AM-9AM EXCEPT SUNDAY <->                                                     1502\n",
       "NO PARKING (SANITATION BROOM SYMBOL) 7:30AM-8AM EXCEPT SUNDAY -->                                                      988\n",
       "NO PARKING (SANITATION BROOM SYMBOL) 8AM-8:30AM EXCEPT SUNDAY -->                                                      929\n",
       "NO PARKING (SANITATION BROOM SYMBOL) 8:30AM-9AM EXCEPT SUNDAY -->                                                      610\n",
       "NO PARKING (SANITATION BROOM SYMBOL) 7AM-7:30AM EXCEPT SUNDAY <->                                                      299\n",
       "NO PARKING (SANITATION BROOM SYMBOL) 8AM-9AM EXCEPT SUNDAY <->                                                         287\n",
       "NO PARKING (SANITATION BROOM SYMBOL) 8AM-9AM EXCEPT SUNDAY -->                                                         142\n",
       "NO PARKING (SANITATION BROOM SYMBOL) 9AM-9:30AM EXCEPT SUNDAY <->                                                      113\n",
       "NO PARKING (SANITATION BROOM SYMBOL) 7AM-7:30AM EXCEPT SUNDAY -->                                                      104\n",
       "NO PARKING (SANITATION BROOM SYMBOL) 6:30AM-7AM EXCEPT SUNDAY <->                                                      103\n",
       "NO PARKING (SANITATION BROOM SYMBOL) 9AM-9:30AM EXCEPT SUNDAY -->                                                       87\n",
       "NO PARKING (SANITATION BROOM SYMBOL) 7:30-8AM EXCEPT SUN <----->                                                        83\n",
       "NO PARKING (SANITATION BROOM SYMBOL) 8:30-9AM EXCEPT SUN <---->                                                         60\n",
       "NO PARKING (SANITATION BROOM SYMBOL) 8-8:30AM EXCEPT SUN <---->                                                         50\n",
       "NO PARKING (SANITATION BROOM SYMBOL) 8AM-9AM EXCEPT SUNDAY <---->                                                       40\n",
       "NO PARKING (SANITATION BROOM SYMBOL) 7AM-8AM EXCEPT SUNDAY <->                                                          36\n",
       "NO PARKING (SANITATION BROOM SYMBOL) 7:30AM-8:30AM EXCEPT SUNDAY <->                                                    30\n",
       "NO PARKING (SANITATION BROOM SYMBOL) 7:30-8AM EXCEPT SUN W/ SINGLE ARROW                                                29\n",
       "NO PARKING (SANITATION BROOM SYMBOL) 6:30AM-7AM EXCEPT SUNDAY -->                                                       27\n",
       "NO PARKING (SANITATION BROOM SYMBOL) 9:30AM-10AM EXCEPT SUNDAY <->                                                      20\n",
       "NO PARKING (SANITATION BROOM SYMBOL) 7:30AM-8:30AM EXCEPT SUNDAY -->                                                    14\n",
       "NO PARKING (SANITATION BROOM SYMBOL) 7:30-8:30AM EXCEPT SUN <----->                                                     13\n",
       "NO PARKING (SANITATION BROOM SYMBOL) 7AM-7:30AM EXCEPT SUN <----->                                                      13\n",
       "NO PARKING (SANITATION BROOM SYMBOL) 7:30AM-9AM EXCEPT SUNDAY <->                                                       13\n",
       "NO PARKING (SANITATION BROOM SYMBOL) 8-8:30AM EXCEPT SUN W/ SINGLE ARROW                                                12\n",
       "NIGHT REGULATION (MOON & STARS SYMBOLS) (SANITATION BROOM SYMBOL) NO PARKING 3AM-6AM EXCEPT SUNDAY <----->              11\n",
       "NO PARKING (SANITATION BROOM SYMBOL) 8:30-9AM EXCEPT SUNW/SINGLE ARROW                                                  11\n",
       "NO PARKING (SANITATION BROOM SYMBOL) 9:30AM-10AM EXCEPT SUNDAY -->                                                      10\n",
       "NO PARKING (SANITATION BROOM SYMBOL) 7AM-8AM EXCEPT SUNDAY -->                                                          10\n",
       "NO PARKING (SANITATION BROOM SYMBOL) 8AM-9AM EXCEPT SUNDAY W/SINGLE ARROW 1-22-98                                        7\n",
       "NIGHT REGULATION (MOON & STARS SYMBOLS) (SANITATION BROOM SYMBOL) NO PARKING 3AM-6AM EXCEPT SUNDAY W/ SINGLE ARROW       5\n",
       "NO PARKING (SANITATION BROOM SYMBOL) 7AM-7:30AM EXCEPT SUN W/ SINGLE ARROW                                               5\n",
       "NO PARKING (SANITATION BROOM SYMBOL) 7:30-8:30AM EXCEPT SUN W/ SINGLE ARROW                                              3\n",
       "NO PARKING (SANITATION BROOM SYMBOL) 7:30-9AM EXCEPT SUNDAY W/SINGLE ARROW                                               2\n",
       "NO PARKING (SANITATION BROOM SYMBOL) 8AM-9AM EXCEPT SUNDAY W/SINGLE ARROW                                                2\n",
       "NO PARKING (SANITATION BROOM SYMBOL) 7:30AM-9AM EXCEPT SUNDAY -->                                                        1\n",
       "NO PARKING (SANITATION BROOM SYMBOL) MOON & STARS (SYMBOLS) 3AM-6AM EXCEPT SUNDAY <->                                    1\n",
       "Name: SIGNDESC1, dtype: int64"
      ]
     },
     "execution_count": 12,
     "metadata": {},
     "output_type": "execute_result"
    }
   ],
   "source": [
    "aspsigns[aspsigns.SIGNDESC1.str.contains(\"EXCEPT\")].SIGNDESC1.value_counts()"
   ]
  },
  {
   "cell_type": "markdown",
   "metadata": {},
   "source": [
    "## What is the data model for a parking restriction?\n",
    "\n",
    "* Street Segment\n",
    "* Day(s) of week\n",
    "* Time of Restriction (on those days)\n"
   ]
  },
  {
   "cell_type": "code",
   "execution_count": 14,
   "metadata": {},
   "outputs": [],
   "source": []
  },
  {
   "cell_type": "code",
   "execution_count": 120,
   "metadata": {},
   "outputs": [],
   "source": [
    "TIMERE = re.compile('(\\d+:?\\d*[A|P]?M?|NOON|MIDNIGHT)(?:-| TO | | TO-|)(\\d+:?\\d*[A|P]?M?|NOON|MIDNIGHT)')\n",
    "MIDDAY = re.compile('([A|P]M)')\n",
    "EXCEPTDAYS = re.compile('EXCEPT (MONDAY|TUESDAY|WEDNESDAY|THURSDAY|FRIDAY|SATURDAY|SUNDAY|MON|TUES|WED|THURS|FRI|SAT|SUN)+')\n",
    "RANGEDAYS = re.compile('(MONDAY|TUESDAY|WEDNESDAY|THURSDAY|FRIDAY|SATURDAY|SUNDAY|MON|TUES|WED|THURS|FRI|SAT|SUN)-(MONDAY|TUESDAY|WEDNESDAY|THURSDAY|FRIDAY|SATURDAY|SUNDAY|MON|TUES|WED|THURS|FRI|SAT|SUN)')\n",
    "ALLDAYS = re.compile('(MONDAY|TUESDAY|WEDNESDAY|THURSDAY|FRIDAY|SATURDAY|SUNDAY|MON|TUES|WED|THURS|FRI|SAT|SUN)')"
   ]
  },
  {
   "cell_type": "code",
   "execution_count": 7,
   "metadata": {},
   "outputs": [
    {
     "data": {
      "text/plain": [
       "[('10:30AM', 'NOON')]"
      ]
     },
     "execution_count": 7,
     "metadata": {},
     "output_type": "execute_result"
    }
   ],
   "source": [
    "TIMERE.findall('NO PARKING (SANITATION BROOM SYMBOL) 10:30AM TO NOON MON & THURS W/SINGLE ARROW')"
   ]
  },
  {
   "cell_type": "code",
   "execution_count": 21,
   "metadata": {},
   "outputs": [],
   "source": [
    "smp = aspsigns.sample(1000)"
   ]
  },
  {
   "cell_type": "code",
   "execution_count": 22,
   "metadata": {},
   "outputs": [],
   "source": [
    "\n",
    "\n",
    "for ix, row in smp.iterrows():\n",
    "\n",
    "    try:\n",
    "        timeFrom, timeTo = TIMERE.findall(row['SIGNDESC1'])[0]\n",
    "    except:\n",
    "        print(row)\n",
    "        raise\n",
    "    if timeFrom == \"NOON\": timeFrom = \"12:00PM\"\n",
    "    if timeFrom == \"MIDNIGHT\": timeFrom = \"12:00AM\"\n",
    "    if timeTo == \"NOON\": timeTo = \"12:00PM\"\n",
    "    if timeTo == \"MIDNIGHT\": timeTo = \"12:00AM\"\n",
    "    if not MIDDAY.search(timeFrom) and MIDDAY.search(timeTo):\n",
    "        timeFrom += (MIDDAY.findall(timeTo)[0])\n",
    "        "
   ]
  },
  {
   "cell_type": "code",
   "execution_count": null,
   "metadata": {},
   "outputs": [],
   "source": []
  },
  {
   "cell_type": "code",
   "execution_count": 8,
   "metadata": {},
   "outputs": [],
   "source": [
    "def timeRules(signdesc):\n",
    "    try:\n",
    "        timeFrom, timeTo = TIMERE.findall(signdesc)[0]\n",
    "    except:\n",
    "        print(signdesc)\n",
    "        raise\n",
    "    if timeFrom == \"NOON\":\n",
    "        timeFrom = \"12:00PM\"\n",
    "    if timeFrom == \"MIDNIGHT\":\n",
    "        timeFrom = \"12:00AM\"\n",
    "    if timeTo == \"NOON\":\n",
    "        timeTo = \"12:00PM\"\n",
    "    if timeTo == \"MIDNIGHT\":\n",
    "        timeTo = \"12:00AM\"\n",
    "    if not MIDDAY.search(timeFrom) and MIDDAY.search(timeTo):\n",
    "        timeFrom += (MIDDAY.findall(timeTo)[0])\n",
    "    \n",
    "    return timeFrom, timeTo"
   ]
  },
  {
   "cell_type": "code",
   "execution_count": 112,
   "metadata": {},
   "outputs": [],
   "source": [
    "NORMALIZEDAYS = {\n",
    "    'SUNDAY': 'SUNDAY',\n",
    "    'SUN': 'SUNDAY',\n",
    "    'MONDAY': 'MONDAY',\n",
    "    'MON': 'MONDAY',\n",
    "    'TUESDAY': 'TUESDAY',\n",
    "    'TUE': 'TUESDAY',\n",
    "    'TUES': 'TUESDAY',\n",
    "    'WEDNESDAY': 'WEDNESDAY',\n",
    "    'WED': 'WEDNESDAY',\n",
    "    'WEDS': 'WEDNESDAY',\n",
    "    'THURSDAY': 'THURSDAY',\n",
    "    'THU': 'THURSDAY',\n",
    "    'THUR': 'THURSDAY',\n",
    "    'THURS': 'THURSDAY',\n",
    "    'FRIDAY': 'FRIDAY',\n",
    "    'FRI': 'FRIDAY',\n",
    "    'SATURDAY': 'SATURDAY',\n",
    "    'SAT': 'SATURDAY'\n",
    "}\n",
    "def dayRules(signdesc):\n",
    "    exceptday = EXCEPTDAYS.findall(signdesc)\n",
    "    rangeday = RANGEDAYS.findall(signdesc)\n",
    "    alldays = ALLDAYS.findall(signdesc)\n",
    "\n",
    "    dayslist = ['SUNDAY', 'MONDAY', 'TUESDAY', 'WEDNESDAY', 'THURSDAY', 'FRIDAY', 'SATURDAY']\n",
    "    if exceptday:\n",
    "        dayslist = ['SUNDAY', 'MONDAY', 'TUESDAY', 'WEDNESDAY', 'THURSDAY', 'FRIDAY', 'SATURDAY']\n",
    "        \n",
    "        for d in exceptday:\n",
    "            day = NORMALIZEDAYS[d]\n",
    "            dayslist.remove(day)\n",
    "        return dayslist\n",
    "    elif rangeday:\n",
    "        #print(rangeday)\n",
    "        fromDay, toDay = rangeday[0]\n",
    "        fromIx = dayslist.index(fromDay)\n",
    "        toIx = dayslist.index(toDay)\n",
    "        #print(fromIx,toIx)\n",
    "        return dayslist[fromIx:toIx+1]\n",
    "    else:\n",
    "        return alldays\n",
    "        \n",
    "        \n",
    "    \n",
    "        "
   ]
  },
  {
   "cell_type": "code",
   "execution_count": null,
   "metadata": {},
   "outputs": [],
   "source": []
  },
  {
   "cell_type": "code",
   "execution_count": 143,
   "metadata": {},
   "outputs": [
    {
     "name": "stdout",
     "output_type": "stream",
     "text": [
      "NO PARKING (SANITATION BROOM SYMBOL) <->\n",
      "NO PARKING (SANITATION BROOM SYMBOL) <->\n"
     ]
    }
   ],
   "source": [
    "for i in vc.index:\n",
    "    days = dayRules(i)\n",
    "    try:\n",
    "        fromTime, toTime = timeRules(i)\n",
    "    except:\n",
    "        print(i)\n",
    "        pass\n"
   ]
  },
  {
   "cell_type": "code",
   "execution_count": null,
   "metadata": {},
   "outputs": [],
   "source": []
  },
  {
   "cell_type": "markdown",
   "metadata": {},
   "source": [
    "# Side Quest: Lets do topic modeling on these sign texts!\n",
    "\n",
    "Lets look at the unique text of each sign "
   ]
  },
  {
   "cell_type": "code",
   "execution_count": 158,
   "metadata": {},
   "outputs": [],
   "source": [
    "count_signs = signs.groupby(['SG_MUTCD_C', 'SIGNDESC1']).size().reset_index(name=\"Count\").sort_values(by=\"Count\", ascending=False)"
   ]
  },
  {
   "cell_type": "code",
   "execution_count": 170,
   "metadata": {},
   "outputs": [
    {
     "name": "stderr",
     "output_type": "stream",
     "text": [
      "/anaconda3/lib/python3.6/site-packages/sklearn/decomposition/online_lda.py:294: DeprecationWarning: n_topics has been renamed to n_components in version 0.19 and will be removed in 0.21\n",
      "  DeprecationWarning)\n"
     ]
    },
    {
     "name": "stdout",
     "output_type": "stream",
     "text": [
      "Topic 0:\n",
      "available description www logo visit\n",
      "Topic 1:\n",
      "taxi stand limit symbol hour\n",
      "Topic 2:\n",
      "driveway clear broom symbol sanitation\n",
      "Topic 3:\n",
      "tunnel bridge tbta august crosswalk\n",
      "Topic 4:\n",
      "large lottery stand panel permit\n",
      "Topic 5:\n",
      "star symbol avo dept nyc\n",
      "Topic 6:\n",
      "arrow sign symbol clock right\n",
      "Topic 7:\n",
      "truck symbol loading 6pm friday\n",
      "Topic 8:\n",
      "curve president chevron studios hazard\n",
      "Topic 9:\n",
      "muni meter pay vehicle marshals\n",
      "Topic 10:\n",
      "7pm parking hour 9am metered\n",
      "Topic 11:\n",
      "hour 7pm parking 30am metered\n",
      "Topic 12:\n",
      "market farmers 30 nov sun\n",
      "Topic 13:\n",
      "parking symbol sanitation broom 30am\n",
      "Topic 14:\n",
      "information dot parking emergency telecommunications\n",
      "Topic 15:\n",
      "tour park layover slippery saturday\n",
      "Topic 16:\n",
      "7pm standing monday friday 10am\n",
      "Topic 17:\n",
      "diamond red delineator pictorial inch\n",
      "Topic 18:\n",
      "mon fri parking standing 8am\n",
      "Topic 19:\n",
      "broom 30am symbol parking sanitation\n",
      "Topic 20:\n",
      "11am 30pm 12 symbol crossing\n",
      "Topic 21:\n",
      "office general mayor justice medical\n",
      "Topic 22:\n",
      "city day times bus xyy\n",
      "Topic 23:\n",
      "court division judges supreme district\n",
      "Topic 24:\n",
      "moon 6am symbols stars symbol\n",
      "Topic 25:\n",
      "group 30 symbol sanitation 10am\n",
      "Topic 26:\n",
      "nys road star licensed test\n",
      "Topic 27:\n",
      "security checkpoint social parking hour\n",
      "Topic 28:\n",
      "unit communityaffairs inspection hotel delineator\n",
      "Topic 29:\n",
      "commission commissioner environmental protection interstate\n",
      "Topic 30:\n",
      "signal ahead way wet slippery\n",
      "Topic 31:\n",
      "10 14 street avenue 15\n",
      "Topic 32:\n",
      "college technical standing anytime bus\n",
      "Topic 33:\n",
      "deg hospital doctors hill 60\n",
      "Topic 34:\n",
      "vehicles friday monday hmp commercial\n",
      "Topic 35:\n",
      "1pm 30am 11 parking symbol\n",
      "Topic 36:\n",
      "arrow single standing parking anytime\n",
      "Topic 37:\n",
      "center permits motorcycle description available\n",
      "Topic 38:\n",
      "11am 30 parking sanitation broom\n",
      "Topic 39:\n",
      "sanitation broom symbol parking mon\n",
      "Topic 40:\n",
      "18 street avenue sanitation sunday\n",
      "Topic 41:\n",
      "parking broom sanitation anytime symbol\n",
      "Topic 42:\n",
      "sunday parking 7pm hour 8am\n",
      "Topic 43:\n",
      "wed parking permitted tues 11\n",
      "Topic 44:\n",
      "effect meters times 3hmp parole\n",
      "Topic 45:\n",
      "fri 8am 6pm mon arrow\n",
      "Topic 46:\n",
      "cross symbol ambulette ambulance horse\n",
      "Topic 47:\n",
      "7am parking symbol 30am broom\n",
      "Topic 48:\n",
      "bus idling engine fine layover\n",
      "Topic 49:\n",
      "days standing 7am school 4pm\n"
     ]
    }
   ],
   "source": [
    "from sklearn.feature_extraction.text import TfidfVectorizer, CountVectorizer\n",
    "from sklearn.decomposition import NMF, LatentDirichletAllocation\n",
    "\n",
    "def display_topics(model, feature_names, no_top_words):\n",
    "    for topic_idx, topic in enumerate(model.components_):\n",
    "        print(\"Topic %d:\" % (topic_idx))\n",
    "        print(\" \".join([feature_names[i]\n",
    "                        for i in topic.argsort()[:-no_top_words - 1:-1]]))\n",
    "        \n",
    "documents = list(count_signs['SIGNDESC1'])\n",
    "\n",
    "no_features = 1000\n",
    "\n",
    "# NMF is able to use tf-idf\n",
    "tfidf_vectorizer = TfidfVectorizer(max_df=0.95, min_df=2, max_features=no_features, stop_words='english')\n",
    "tfidf = tfidf_vectorizer.fit_transform(documents)\n",
    "tfidf_feature_names = tfidf_vectorizer.get_feature_names()\n",
    "\n",
    "# LDA can only use raw term counts for LDA because it is a probabilistic graphical model\n",
    "tf_vectorizer = CountVectorizer(max_df=0.95, min_df=2, max_features=no_features, stop_words='english')\n",
    "tf = tf_vectorizer.fit_transform(documents)\n",
    "tf_feature_names = tf_vectorizer.get_feature_names()\n",
    "\n",
    "no_topics = 50\n",
    "\n",
    "# Run NMF\n",
    "# nmf = NMF(n_components=no_topics, random_state=1, alpha=.1, l1_ratio=.5, init='nndsvd').fit(tfidf)\n",
    "\n",
    "# Run LDA\n",
    "lda = LatentDirichletAllocation(n_topics=no_topics, max_iter=5, learning_method='online', learning_offset=50.,random_state=0).fit(tf)\n",
    "\n",
    "no_top_words = 5\n",
    "#display_topics(nmf, tfidf_feature_names, no_top_words)\n",
    "display_topics(lda, tf_feature_names, no_top_words)"
   ]
  },
  {
   "cell_type": "markdown",
   "metadata": {},
   "source": [
    "# Start matching sign positions to street segments\n",
    "\n",
    "Steps:\n",
    "1. Determine the logic for matching a side to each street\n",
    "1. For each Sign: match sign to closest street segment (and save it to a list on the correct sign)\n",
    "2. For each street segment: apply the set of street signs (we have logic for) to determine the rules that apply to that street segment"
   ]
  },
  {
   "cell_type": "code",
   "execution_count": 198,
   "metadata": {},
   "outputs": [],
   "source": [
    "# Convert LION Geodatabase to a GeoJSON file because Geopandas has FEELINGS! about importing geodatabase layers\n",
    "! ogr2ogr -f \"GeoJSON\" data/lion/lion.geojson data/lion/lion.gdb lion -s_srs EPSG:2263 -t_srs EPSG:4326"
   ]
  },
  {
   "cell_type": "code",
   "execution_count": 2,
   "metadata": {},
   "outputs": [],
   "source": [
    "streets = gpd.read_file('data/lion/lion.geojson')"
   ]
  },
  {
   "cell_type": "markdown",
   "metadata": {},
   "source": [
    "Start your script by importing the quad tree.\n",
    "\n",
    "from pyqtree import Index\n",
    "Setup the spatial index, giving it a bounding box area to keep track of. The bounding box being in a four-tuple: (xmin, ymin, xmax, ymax).\n",
    "\n",
    "spindex = Index(bbox=(0, 0, 100, 100))\n",
    "Populate the index with items that you want to be retrieved at a later point, along with each item's geographic bbox.\n",
    "\n",
    "# this example assumes you have a list of items with bbox attribute\n",
    "for item in items:\n",
    "    spindex.insert(item, item.bbox)\n",
    "Then when you have a region of interest and you wish to retrieve items from that region, just use the index's intersect method. This quickly gives you a list of the stored items whose bboxes intersects your region of interests.\n",
    "\n",
    "overlapbbox = (51, 51, 86, 86)\n",
    "matches = spindex.intersect(overlapbbox)"
   ]
  },
  {
   "cell_type": "code",
   "execution_count": 17,
   "metadata": {},
   "outputs": [
    {
     "name": "stdout",
     "output_type": "stream",
     "text": [
      "Requirement already up-to-date: rtree in /anaconda3/lib/python3.6/site-packages\n",
      "Requirement already up-to-date: setuptools in /anaconda3/lib/python3.6/site-packages (from rtree)\n",
      "\u001b[33mYou are using pip version 9.0.2, however version 9.0.3 is available.\n",
      "You should consider upgrading via the 'pip install --upgrade pip' command.\u001b[0m\n"
     ]
    }
   ],
   "source": [
    "! pip install -U rtree"
   ]
  },
  {
   "cell_type": "code",
   "execution_count": 21,
   "metadata": {},
   "outputs": [],
   "source": [
    "import rtree"
   ]
  },
  {
   "cell_type": "code",
   "execution_count": 24,
   "metadata": {},
   "outputs": [],
   "source": [
    "\n",
    "spindex = rtree.index.Index()"
   ]
  },
  {
   "cell_type": "code",
   "execution_count": 25,
   "metadata": {},
   "outputs": [
    {
     "name": "stdout",
     "output_type": "stream",
     "text": [
      "224762\n",
      "CPU times: user 47.9 s, sys: 792 ms, total: 48.7 s\n",
      "Wall time: 48.7 s\n"
     ]
    }
   ],
   "source": [
    "%%time\n",
    "a = 0\n",
    "for ix, row in streets.iterrows():\n",
    "    spindex.insert(ix, row[streets._geometry_column_name].bounds)\n",
    "    a +=1\n",
    "print(a)"
   ]
  },
  {
   "cell_type": "markdown",
   "metadata": {},
   "source": [
    "## Now that you've built a spatial index, query against each point\n"
   ]
  },
  {
   "cell_type": "code",
   "execution_count": 87,
   "metadata": {},
   "outputs": [],
   "source": [
    "for ix, row in signs.iterrows():\n",
    "    break"
   ]
  },
  {
   "cell_type": "code",
   "execution_count": 88,
   "metadata": {},
   "outputs": [],
   "source": [
    "ptx = srow[signs._geometry_column_name].centroid.coords.xy[0][0]\n",
    "pty = srow[signs._geometry_column_name].centroid.coords.xy[1][0]"
   ]
  },
  {
   "cell_type": "code",
   "execution_count": 60,
   "metadata": {},
   "outputs": [],
   "source": [
    "l = list(spindex.nearest((ptx, pty),num_results=10))\n",
    "tencloseststreets = streets.iloc[l]"
   ]
  },
  {
   "cell_type": "code",
   "execution_count": 69,
   "metadata": {},
   "outputs": [
    {
     "name": "stdout",
     "output_type": "stream",
     "text": [
      "CPU times: user 13.4 ms, sys: 1.44 ms, total: 14.9 ms\n",
      "Wall time: 13.2 ms\n"
     ]
    }
   ],
   "source": [
    "%%time\n",
    "sample = signs.sample(1000)\n"
   ]
  },
  {
   "cell_type": "code",
   "execution_count": 103,
   "metadata": {},
   "outputs": [],
   "source": [
    "# Need to go back and check if what you're measuring is the closest listance to any particular line in the set OR the closest distance to any of the lines\n",
    "def min_distance(point, lines):\n",
    "    l = list(spindex.nearest(point,num_results=20))\n",
    "    tencloseststreets = streets.iloc[l]\n",
    "    return tencloseststreets #.distance(point).min()\n",
    "\n",
    "# sample['min_dist_to_lines'] = sample.geometry.apply(lambda x: min_distance(x, streets))"
   ]
  },
  {
   "cell_type": "code",
   "execution_count": 107,
   "metadata": {},
   "outputs": [
    {
     "name": "stderr",
     "output_type": "stream",
     "text": [
      "/anaconda3/lib/python3.6/site-packages/ipykernel_launcher.py:2: SettingWithCopyWarning: \n",
      "A value is trying to be set on a copy of a slice from a DataFrame.\n",
      "Try using .loc[row_indexer,col_indexer] = value instead\n",
      "\n",
      "See the caveats in the documentation: http://pandas.pydata.org/pandas-docs/stable/indexing.html#indexing-view-versus-copy\n",
      "  \n"
     ]
    }
   ],
   "source": [
    "tc = min_distance((ptx,pty), streets)\n",
    "tc['dist'] = tc.distance(geom.Point(ptx,pty))"
   ]
  },
  {
   "cell_type": "code",
   "execution_count": 111,
   "metadata": {},
   "outputs": [
    {
     "data": {
      "text/plain": [
       "Street                                                     JEROME AVENUE\n",
       "SAFStreetName                                                           \n",
       "FeatureTyp                                                             0\n",
       "SegmentTyp                                                             U\n",
       "IncExFlag                                                               \n",
       "RB_Layer                                                               B\n",
       "NonPed                                                                  \n",
       "TrafDir                                                                T\n",
       "TrafSrc                                                              DOT\n",
       "SpecAddr                                                                \n",
       "FaceCode                                                            4100\n",
       "SeqNum                                                             00520\n",
       "StreetCode                                                        242820\n",
       "SAFStreetCode                                                           \n",
       "LGC1                                                                  01\n",
       "LGC2                                                                    \n",
       "LGC3                                                                    \n",
       "LGC4                                                                    \n",
       "LGC5                                                                    \n",
       "LGC6                                                                    \n",
       "LGC7                                                                    \n",
       "LGC8                                                                    \n",
       "LGC9                                                                    \n",
       "BOE_LGC                                                                1\n",
       "SegmentID                                                        0079931\n",
       "SegCount                                                               1\n",
       "LocStatus                                                              X\n",
       "LZip                                                               10468\n",
       "RZip                                                               10468\n",
       "LBoro                                                                  2\n",
       "                                             ...                        \n",
       "LBlockFaceID                                                  1522604298\n",
       "RBlockFaceID                                                  1522611884\n",
       "LegacyID                                                         0079931\n",
       "Status                                                                 2\n",
       "StreetWidth_Min                                                       70\n",
       "StreetWidth_Max                                                       74\n",
       "StreetWidth_Irr                                                         \n",
       "BikeLane                                                                \n",
       "BIKE_TRAFDIR                                                            \n",
       "ACTIVE_FLAG                                                             \n",
       "POSTED_SPEED                                                          25\n",
       "Snow_Priority                                                          C\n",
       "Number_Travel_Lanes                                                    4\n",
       "Number_Park_Lanes                                                      2\n",
       "Number_Total_Lanes                                                     6\n",
       "Carto_Display_Level                                                     \n",
       "FCC                                                                     \n",
       "ROW_Type                                                                \n",
       "LLo_Hyphen                                                          2641\n",
       "LHi_Hyphen                                                          2669\n",
       "RLo_Hyphen                                                          2614\n",
       "RHi_Hyphen                                                          2666\n",
       "FromLeft                                                            2641\n",
       "ToLeft                                                              2669\n",
       "FromRight                                                           2614\n",
       "ToRight                                                             2666\n",
       "Join_ID                                                    2410001000000\n",
       "SHAPE_Length                                                     315.085\n",
       "geometry               (LINESTRING (-73.89797842694803 40.86672770727...\n",
       "dist                                                           0.0001311\n",
       "Name: 11812, Length: 119, dtype: object"
      ]
     },
     "execution_count": 111,
     "metadata": {},
     "output_type": "execute_result"
    }
   ],
   "source": [
    "tc.sort_values(by='dist', ascending=True).iloc[0]"
   ]
  },
  {
   "cell_type": "code",
   "execution_count": null,
   "metadata": {},
   "outputs": [],
   "source": []
  },
  {
   "cell_type": "code",
   "execution_count": 89,
   "metadata": {},
   "outputs": [
    {
     "data": {
      "text/plain": [
       "<matplotlib.axes._subplots.AxesSubplot at 0x165fe7dd8>"
      ]
     },
     "execution_count": 89,
     "metadata": {},
     "output_type": "execute_result"
    },
    {
     "data": {
      "image/png": "[encoded data removed]",
      "text/plain": [
       "<matplotlib.figure.Figure at 0x1664db2b0>"
      ]
     },
     "metadata": {},
     "output_type": "display_data"
    },
    {
     "data": {
      "image/png": "[encoded data removed]",
      "text/plain": [
       "<matplotlib.figure.Figure at 0x166174cc0>"
      ]
     },
     "metadata": {},
     "output_type": "display_data"
    }
   ],
   "source": [
    "%matplotlib inline\n",
    "import matplotlib.pyplot as plt\n",
    "import shapely.geometry as geom\n",
    "import numpy as np\n",
    "import pandas as pd\n",
    "import geopandas as gpd\n",
    "\n",
    "lines = gpd.GeoSeries(\n",
    "    [geom.LineString(((1.4, 3), (0, 0))),\n",
    "        geom.LineString(((1.1, 2.), (0.1, 0.4))),\n",
    "        geom.LineString(((-0.1, 3.), (1, 2.)))])\n",
    "\n",
    "# 10 points\n",
    "n  = 10\n",
    "points = gpd.GeoSeries([geom.Point(x, y) for x, y in np.random.uniform(0, 3, (n, 2))])\n",
    "\n",
    "# Put the points in a dataframe, with some other random column\n",
    "df_points = gpd.GeoDataFrame(np.array([points, np.random.randn(n)]).T)\n",
    "df_points.columns = ['Geometry', 'Property1']\n",
    "\n",
    "points.plot()\n",
    "lines.plot()"
   ]
  },
  {
   "cell_type": "code",
   "execution_count": 91,
   "metadata": {},
   "outputs": [
    {
     "data": {
      "text/html": [
       "<div>\n",
       "<style scoped>\n",
       "    .dataframe tbody tr th:only-of-type {\n",
       "        vertical-align: middle;\n",
       "    }\n",
       "\n",
       "    .dataframe tbody tr th {\n",
       "        vertical-align: top;\n",
       "    }\n",
       "\n",
       "    .dataframe thead th {\n",
       "        text-align: right;\n",
       "    }\n",
       "</style>\n",
       "<table border=\"1\" class=\"dataframe\">\n",
       "  <thead>\n",
       "    <tr style=\"text-align: right;\">\n",
       "      <th></th>\n",
       "      <th>Geometry</th>\n",
       "      <th>Property1</th>\n",
       "      <th>min_dist_to_lines</th>\n",
       "    </tr>\n",
       "  </thead>\n",
       "  <tbody>\n",
       "    <tr>\n",
       "      <th>0</th>\n",
       "      <td>POINT (2.587525569067006 2.265489672246271)</td>\n",
       "      <td>-1.28976</td>\n",
       "      <td>1.386729</td>\n",
       "    </tr>\n",
       "    <tr>\n",
       "      <th>1</th>\n",
       "      <td>POINT (0.6852267045629781 2.170226224879901)</td>\n",
       "      <td>-0.596716</td>\n",
       "      <td>0.085782</td>\n",
       "    </tr>\n",
       "    <tr>\n",
       "      <th>2</th>\n",
       "      <td>POINT (1.402836536106647 0.1035915921385242)</td>\n",
       "      <td>-0.212961</td>\n",
       "      <td>1.227419</td>\n",
       "    </tr>\n",
       "    <tr>\n",
       "      <th>3</th>\n",
       "      <td>POINT (0.9295067648276186 2.898270813753055)</td>\n",
       "      <td>-0.232403</td>\n",
       "      <td>0.383333</td>\n",
       "    </tr>\n",
       "    <tr>\n",
       "      <th>4</th>\n",
       "      <td>POINT (0.8584204348276058 2.909473874783404)</td>\n",
       "      <td>0.387979</td>\n",
       "      <td>0.452488</td>\n",
       "    </tr>\n",
       "    <tr>\n",
       "      <th>5</th>\n",
       "      <td>POINT (2.463409320740991 2.370318610184958)</td>\n",
       "      <td>0.172741</td>\n",
       "      <td>1.229927</td>\n",
       "    </tr>\n",
       "    <tr>\n",
       "      <th>6</th>\n",
       "      <td>POINT (2.10045590699968 2.101121492239253)</td>\n",
       "      <td>1.50484</td>\n",
       "      <td>1.005553</td>\n",
       "    </tr>\n",
       "    <tr>\n",
       "      <th>7</th>\n",
       "      <td>POINT (0.6913879848931953 2.682622076014337)</td>\n",
       "      <td>0.534162</td>\n",
       "      <td>0.297505</td>\n",
       "    </tr>\n",
       "    <tr>\n",
       "      <th>8</th>\n",
       "      <td>POINT (2.124335667810127 1.963941960945636)</td>\n",
       "      <td>-1.06457</td>\n",
       "      <td>1.024970</td>\n",
       "    </tr>\n",
       "    <tr>\n",
       "      <th>9</th>\n",
       "      <td>POINT (2.232579076628708 2.195068843198911)</td>\n",
       "      <td>-1.0892</td>\n",
       "      <td>1.094863</td>\n",
       "    </tr>\n",
       "  </tbody>\n",
       "</table>\n",
       "</div>"
      ],
      "text/plain": [
       "                                       Geometry Property1  min_dist_to_lines\n",
       "0   POINT (2.587525569067006 2.265489672246271)  -1.28976           1.386729\n",
       "1  POINT (0.6852267045629781 2.170226224879901) -0.596716           0.085782\n",
       "2  POINT (1.402836536106647 0.1035915921385242) -0.212961           1.227419\n",
       "3  POINT (0.9295067648276186 2.898270813753055) -0.232403           0.383333\n",
       "4  POINT (0.8584204348276058 2.909473874783404)  0.387979           0.452488\n",
       "5   POINT (2.463409320740991 2.370318610184958)  0.172741           1.229927\n",
       "6    POINT (2.10045590699968 2.101121492239253)   1.50484           1.005553\n",
       "7  POINT (0.6913879848931953 2.682622076014337)  0.534162           0.297505\n",
       "8   POINT (2.124335667810127 1.963941960945636)  -1.06457           1.024970\n",
       "9   POINT (2.232579076628708 2.195068843198911)   -1.0892           1.094863"
      ]
     },
     "execution_count": 91,
     "metadata": {},
     "output_type": "execute_result"
    }
   ],
   "source": [
    "min_dist = np.empty(n)\n",
    "for i, point in enumerate(points):\n",
    "    min_dist[i] = np.min([point.distance(line) for line in lines])\n",
    "df_points['min_dist_to_lines'] = min_dist\n",
    "df_points"
   ]
  },
  {
   "cell_type": "code",
   "execution_count": null,
   "metadata": {},
   "outputs": [],
   "source": []
  },
  {
   "cell_type": "code",
   "execution_count": 116,
   "metadata": {},
   "outputs": [
    {
     "data": {
      "text/plain": [
       "4052901000000      2277\n",
       "4925502000000      1690\n",
       "3056501000000      1344\n",
       "3955502000000       982\n",
       "4193401000000       805\n",
       "1108701000000       801\n",
       "5925502000000       786\n",
       "4000705010000       729\n",
       "2880502000000       724\n",
       "2194201000000       682\n",
       "1000105010000       578\n",
       "1992502000000       561\n",
       "3250601000000       512\n",
       "5000905000000       480\n",
       "2730201000000       475\n",
       "3000505010000       452\n",
       "4999904000000       413\n",
       "5611001020000       390\n",
       "2000305010000       364\n",
       "4170901000000       352\n",
       "1368501000000       337\n",
       "4254601000000       335\n",
       "1043013020000       327\n",
       "4203015010000       322\n",
       "4240844010000       320\n",
       "2114801000000       306\n",
       "5206101000000       300\n",
       "1003010020000       294\n",
       "1386501000000       293\n",
       "2108035010000       292\n",
       "                   ... \n",
       "31156511000000X       1\n",
       "31176525000000X       1\n",
       "11374016000000X       1\n",
       "52396314000000X       1\n",
       "11674008000000X       1\n",
       "11153501000000N       1\n",
       "34023505000000X       1\n",
       "31218001000000N       1\n",
       "32333848000000X       1\n",
       "11375016000000X       1\n",
       "11674012000000X       1\n",
       "13014001000000N       1\n",
       "11259001000000N       1\n",
       "25267002000000X       1\n",
       "11162001000000N       1\n",
       "23980405000000X       1\n",
       "25267011000000X       1\n",
       "52669001000000A       1\n",
       "21237501000000N       1\n",
       "11204001000000N       1\n",
       "37215018000000X       1\n",
       "3378401000000         1\n",
       "41013522000000X       1\n",
       "31176519000000X       1\n",
       "3476801000000         1\n",
       "3734401020000         1\n",
       "31347003000000X       1\n",
       "32333001000000V       1\n",
       "41014534000000X       1\n",
       "41307512000000X       1\n",
       "Name: Join_ID, Length: 25683, dtype: int64"
      ]
     },
     "execution_count": 116,
     "metadata": {},
     "output_type": "execute_result"
    }
   ],
   "source": [
    "streets.Join_ID.value_counts()"
   ]
  },
  {
   "cell_type": "code",
   "execution_count": null,
   "metadata": {},
   "outputs": [],
   "source": []
  }
 ],
 "metadata": {
  "kernelspec": {
   "display_name": "Python 3",
   "language": "python",
   "name": "python3"
  },
  "language_info": {
   "codemirror_mode": {
    "name": "ipython",
    "version": 3
   },
   "file_extension": ".py",
   "mimetype": "text/x-python",
   "name": "python",
   "nbconvert_exporter": "python",
   "pygments_lexer": "ipython3",
   "version": "3.6.4"
  }
 },
 "nbformat": 4,
 "nbformat_minor": 2
}
